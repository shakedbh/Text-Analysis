{
 "cells": [
  {
   "cell_type": "markdown",
   "metadata": {},
   "source": [
    "# Assignment 3 - Text Analysis\n",
    "An explanation this assignment could be found in the .pdf explanation document"
   ]
  },
  {
   "cell_type": "markdown",
   "metadata": {},
   "source": [
    "\n",
    "## Materials to review for this assignment\n",
    "<h4>From Moodle:</h4> \n",
    "<h5><u>Review the notebooks regarding the following python topics</u>:</h5>\n",
    "<div class=\"alert alert-info\">\n",
    "&#x2714; <b>Working with strings</b> (tutorial notebook)<br/>\n",
    "&#x2714; <b>Text Analysis</b> (tutorial notebook)<br/>\n",
    "&#x2714; <b>Hebrew text analysis tools (tokenizer, wordnet)</b> (moodle example)<br/>\n",
    "&#x2714; <b>(brief review) All previous notebooks</b><br/>\n",
    "</div> \n",
    "<h5><u>Review the presentations regarding the following topics</u>:</h5>\n",
    "<div class=\"alert alert-info\">\n",
    "&#x2714; <b>Text Analysis</b> (lecture presentation)<br/>\n",
    "&#x2714; <b>(brief review) All other presentations</b><br/>\n",
    "</div>"
   ]
  },
  {
   "cell_type": "markdown",
   "metadata": {},
   "source": [
    "## Personal Details:"
   ]
  },
  {
   "cell_type": "code",
   "execution_count": 1,
   "metadata": {},
   "outputs": [],
   "source": [
    "# Details Student 1: Shaked Ben Hamo 206625568\n",
    "\n",
    "# Details Student 2: Liad Itah 208900787\n"
   ]
  },
  {
   "cell_type": "markdown",
   "metadata": {},
   "source": [
    "## Preceding Step - import modules (packages)\n",
    "This step is necessary in order to use external modules (packages). <br/>"
   ]
  },
  {
   "cell_type": "code",
   "execution_count": 2,
   "metadata": {},
   "outputs": [],
   "source": [
    "# --------------------------------------\n",
    "import pandas as pd\n",
    "import numpy as np\n",
    "# --------------------------------------\n",
    "\n",
    "\n",
    "# --------------------------------------\n",
    "# ------------- visualizations:\n",
    "import seaborn as sns\n",
    "import matplotlib.pyplot as plt\n",
    "from matplotlib.colors import ListedColormap\n",
    "# --------------------------------------\n",
    "\n",
    "\n",
    "# ---------------------------------------\n",
    "import sklearn\n",
    "from sklearn import preprocessing, metrics, pipeline, model_selection, feature_extraction \n",
    "from sklearn import naive_bayes, linear_model, svm, neural_network, neighbors, tree\n",
    "from sklearn import decomposition, cluster\n",
    "\n",
    "from sklearn.model_selection import train_test_split, cross_val_score, GridSearchCV \n",
    "from sklearn.pipeline import Pipeline, make_pipeline\n",
    "from sklearn.metrics import accuracy_score, confusion_matrix\n",
    "from sklearn.metrics import precision_score, recall_score, f1_score\n",
    "from sklearn.metrics import mean_squared_error, r2_score, silhouette_score\n",
    "from sklearn.preprocessing import MinMaxScaler, StandardScaler, LabelEncoder\n",
    "\n",
    "from sklearn.svm import LinearSVC\n",
    "from sklearn.neural_network import MLPClassifier\n",
    "from sklearn.linear_model import Perceptron, SGDClassifier\n",
    "from sklearn.decomposition import PCA\n",
    "from sklearn.cluster import KMeans\n",
    "from sklearn.naive_bayes import MultinomialNB, GaussianNB\n",
    "from sklearn.neighbors import KNeighborsClassifier\n",
    "from sklearn.tree import DecisionTreeClassifier\n",
    "# ---------------------------------------\n",
    "\n",
    "\n",
    "# ----------------- output and visualizations: \n",
    "import warnings\n",
    "from sklearn.exceptions import ConvergenceWarning\n",
    "warnings.simplefilter(\"ignore\")\n",
    "warnings.simplefilter(action='ignore', category=FutureWarning)\n",
    "warnings.simplefilter(\"ignore\", category=ConvergenceWarning)\n",
    "# show several prints in one cell. This will allow us to condence every trick in one cell.\n",
    "from IPython.core.interactiveshell import InteractiveShell\n",
    "InteractiveShell.ast_node_interactivity = \"all\"\n",
    "%matplotlib inline\n",
    "pd.pandas.set_option('display.max_columns', None)\n",
    "pd.set_option('display.float_format', lambda x: '%.3f' % x)\n",
    "# ---------------------------------------"
   ]
  },
  {
   "cell_type": "markdown",
   "metadata": {},
   "source": [
    "### Text analysis and String manipulation imports:"
   ]
  },
  {
   "cell_type": "code",
   "execution_count": 3,
   "metadata": {},
   "outputs": [],
   "source": [
    "# --------------------------------------\n",
    "# --------- Text analysis and Hebrew text analysis imports:\n",
    "# vectorizers:\n",
    "from sklearn.feature_extraction import text\n",
    "from sklearn.feature_extraction.text import CountVectorizer, TfidfVectorizer\n",
    "\n",
    "# regular expressions:\n",
    "import re\n",
    "# --------------------------------------"
   ]
  },
  {
   "cell_type": "markdown",
   "metadata": {},
   "source": [
    "### (optional) Hebrew text analysis - WordNet (for Hebrew)\n",
    "Note: the WordNet is not a must"
   ]
  },
  {
   "cell_type": "markdown",
   "metadata": {},
   "source": [
    "#### (optional) Only if you didn't install Wordnet (for Hebrew) use:"
   ]
  },
  {
   "cell_type": "code",
   "execution_count": 4,
   "metadata": {},
   "outputs": [],
   "source": [
    "# word net installation:\n",
    "\n",
    "# unmark if you want to use and need to install\n",
    "# !pip install wn\n",
    "# !python -m wn download omw-he:1.4"
   ]
  },
  {
   "cell_type": "code",
   "execution_count": 5,
   "metadata": {},
   "outputs": [],
   "source": [
    "# word net import:\n",
    "\n",
    "# unmark if you want to use:\n",
    "# import wn"
   ]
  },
  {
   "cell_type": "markdown",
   "metadata": {},
   "source": [
    "### (optional) Hebrew text analysis - hebrew_tokenizer (Tokenizer for Hebrew)\n",
    "Note: the hebrew_tokenizer is not a must"
   ]
  },
  {
   "cell_type": "markdown",
   "metadata": {},
   "source": [
    "#### (optional) Only if you didn't install hebrew_tokenizer use:"
   ]
  },
  {
   "cell_type": "code",
   "execution_count": 6,
   "metadata": {},
   "outputs": [],
   "source": [
    "# Hebrew tokenizer installation:\n",
    "\n",
    "# unmark if you want to use and need to install:\n",
    "# !pip install hebrew_tokenizer"
   ]
  },
  {
   "cell_type": "code",
   "execution_count": 7,
   "metadata": {},
   "outputs": [],
   "source": [
    "# Hebrew tokenizer import:\n",
    "\n",
    "# unmark if you want to use:\n",
    "# import hebrew_tokenizer as ht\n"
   ]
  },
  {
   "cell_type": "markdown",
   "metadata": {},
   "source": [
    "### Reading input files\n",
    "Reading input files for train annotated corpus (raw text data) corpus and for the test corpus"
   ]
  },
  {
   "cell_type": "code",
   "execution_count": 8,
   "metadata": {},
   "outputs": [],
   "source": [
    "train_filename = 'annotated_corpus_for_train.csv'\n",
    "test_filename  = 'corpus_for_test.csv'\n",
    "df_train = pd.read_csv(train_filename, index_col=None, encoding='utf-8')\n",
    "df_test  = pd.read_csv(test_filename, index_col=None, encoding='utf-8')"
   ]
  },
  {
   "cell_type": "code",
   "execution_count": 9,
   "metadata": {},
   "outputs": [
    {
     "data": {
      "text/html": [
       "<div>\n",
       "<style scoped>\n",
       "    .dataframe tbody tr th:only-of-type {\n",
       "        vertical-align: middle;\n",
       "    }\n",
       "\n",
       "    .dataframe tbody tr th {\n",
       "        vertical-align: top;\n",
       "    }\n",
       "\n",
       "    .dataframe thead th {\n",
       "        text-align: right;\n",
       "    }\n",
       "</style>\n",
       "<table border=\"1\" class=\"dataframe\">\n",
       "  <thead>\n",
       "    <tr style=\"text-align: right;\">\n",
       "      <th></th>\n",
       "      <th>story</th>\n",
       "      <th>gender</th>\n",
       "    </tr>\n",
       "  </thead>\n",
       "  <tbody>\n",
       "    <tr>\n",
       "      <th>0</th>\n",
       "      <td>כשחבר הזמין אותי לחול, לא באמת חשבתי שזה יקרה,...</td>\n",
       "      <td>m</td>\n",
       "    </tr>\n",
       "    <tr>\n",
       "      <th>1</th>\n",
       "      <td>לפני שהתגייסתי לצבא עשיתי כל מני מיונים ליחידו...</td>\n",
       "      <td>m</td>\n",
       "    </tr>\n",
       "    <tr>\n",
       "      <th>2</th>\n",
       "      <td>מאז שהתחילו הלימודים חלומו של כל סטודנט זה הפנ...</td>\n",
       "      <td>f</td>\n",
       "    </tr>\n",
       "    <tr>\n",
       "      <th>3</th>\n",
       "      <td>כשהייתי ילד, מטוסים היה הדבר שהכי ריתק אותי. ב...</td>\n",
       "      <td>m</td>\n",
       "    </tr>\n",
       "    <tr>\n",
       "      <th>4</th>\n",
       "      <td>‏הייתי מדריכה בכפר נוער ומתאם הכפר היינו צריכי...</td>\n",
       "      <td>f</td>\n",
       "    </tr>\n",
       "    <tr>\n",
       "      <th>5</th>\n",
       "      <td>לפני כ3 חודשים טסתי לרומא למשך שבוע. טסתי במטו...</td>\n",
       "      <td>f</td>\n",
       "    </tr>\n",
       "    <tr>\n",
       "      <th>6</th>\n",
       "      <td>אני כבר שנתיים נשוי והשנה אני ואישתי סוף סוף י...</td>\n",
       "      <td>m</td>\n",
       "    </tr>\n",
       "    <tr>\n",
       "      <th>7</th>\n",
       "      <td>השנה התחלנו שיפוץ בדירה שלנו בתל אביב. הדירה ה...</td>\n",
       "      <td>f</td>\n",
       "    </tr>\n",
       "  </tbody>\n",
       "</table>\n",
       "</div>"
      ],
      "text/plain": [
       "                                               story gender\n",
       "0  כשחבר הזמין אותי לחול, לא באמת חשבתי שזה יקרה,...      m\n",
       "1  לפני שהתגייסתי לצבא עשיתי כל מני מיונים ליחידו...      m\n",
       "2  מאז שהתחילו הלימודים חלומו של כל סטודנט זה הפנ...      f\n",
       "3  כשהייתי ילד, מטוסים היה הדבר שהכי ריתק אותי. ב...      m\n",
       "4  ‏הייתי מדריכה בכפר נוער ומתאם הכפר היינו צריכי...      f\n",
       "5  לפני כ3 חודשים טסתי לרומא למשך שבוע. טסתי במטו...      f\n",
       "6  אני כבר שנתיים נשוי והשנה אני ואישתי סוף סוף י...      m\n",
       "7  השנה התחלנו שיפוץ בדירה שלנו בתל אביב. הדירה ה...      f"
      ]
     },
     "execution_count": 9,
     "metadata": {},
     "output_type": "execute_result"
    },
    {
     "data": {
      "text/plain": [
       "(753, 2)"
      ]
     },
     "execution_count": 9,
     "metadata": {},
     "output_type": "execute_result"
    }
   ],
   "source": [
    "df_train.head(8)\n",
    "df_train.shape"
   ]
  },
  {
   "cell_type": "code",
   "execution_count": 10,
   "metadata": {},
   "outputs": [
    {
     "data": {
      "text/html": [
       "<div>\n",
       "<style scoped>\n",
       "    .dataframe tbody tr th:only-of-type {\n",
       "        vertical-align: middle;\n",
       "    }\n",
       "\n",
       "    .dataframe tbody tr th {\n",
       "        vertical-align: top;\n",
       "    }\n",
       "\n",
       "    .dataframe thead th {\n",
       "        text-align: right;\n",
       "    }\n",
       "</style>\n",
       "<table border=\"1\" class=\"dataframe\">\n",
       "  <thead>\n",
       "    <tr style=\"text-align: right;\">\n",
       "      <th></th>\n",
       "      <th>test_example_id</th>\n",
       "      <th>story</th>\n",
       "    </tr>\n",
       "  </thead>\n",
       "  <tbody>\n",
       "    <tr>\n",
       "      <th>0</th>\n",
       "      <td>0</td>\n",
       "      <td>כל קיץ אני והמשפחה נוסעים לארצות הברית לוס אנג...</td>\n",
       "    </tr>\n",
       "    <tr>\n",
       "      <th>1</th>\n",
       "      <td>1</td>\n",
       "      <td>הגעתי לשירות המדינה אחרי שנתיים כפעיל בתנועת \"...</td>\n",
       "    </tr>\n",
       "    <tr>\n",
       "      <th>2</th>\n",
       "      <td>2</td>\n",
       "      <td>אחת האהבות הגדולות שלי אלו הכלבים שלי ושל אישת...</td>\n",
       "    </tr>\n",
       "  </tbody>\n",
       "</table>\n",
       "</div>"
      ],
      "text/plain": [
       "   test_example_id                                              story\n",
       "0                0  כל קיץ אני והמשפחה נוסעים לארצות הברית לוס אנג...\n",
       "1                1  הגעתי לשירות המדינה אחרי שנתיים כפעיל בתנועת \"...\n",
       "2                2  אחת האהבות הגדולות שלי אלו הכלבים שלי ושל אישת..."
      ]
     },
     "execution_count": 10,
     "metadata": {},
     "output_type": "execute_result"
    },
    {
     "data": {
      "text/plain": [
       "(323, 2)"
      ]
     },
     "execution_count": 10,
     "metadata": {},
     "output_type": "execute_result"
    }
   ],
   "source": [
    "df_test.head(3)\n",
    "df_test.shape"
   ]
  },
  {
   "cell_type": "markdown",
   "metadata": {},
   "source": [
    "### Your implementation:\n",
    "Write your code solution in the following code-cells"
   ]
  },
  {
   "cell_type": "code",
   "execution_count": 11,
   "metadata": {},
   "outputs": [],
   "source": [
    "# Preprocess the text and tokenize the 'story' column in df_train\n",
    "def preprocess_text(text):\n",
    "    # Remove special characters and convert to lowercase\n",
    "    cleaned_text = re.sub(r'[^א-ת\\s]', '', text.lower())\n",
    "    # Tokenize the text\n",
    "    tokens = cleaned_text.split()\n",
    "    return ' '.join(tokens)"
   ]
  },
  {
   "cell_type": "code",
   "execution_count": 12,
   "metadata": {},
   "outputs": [
    {
     "name": "stdout",
     "output_type": "stream",
     "text": [
      "                                               story  \\\n",
      "0  כשחבר הזמין אותי לחול, לא באמת חשבתי שזה יקרה,...   \n",
      "1  לפני שהתגייסתי לצבא עשיתי כל מני מיונים ליחידו...   \n",
      "2  מאז שהתחילו הלימודים חלומו של כל סטודנט זה הפנ...   \n",
      "3  כשהייתי ילד, מטוסים היה הדבר שהכי ריתק אותי. ב...   \n",
      "4  ‏הייתי מדריכה בכפר נוער ומתאם הכפר היינו צריכי...   \n",
      "\n",
      "                                        cleaned_text  \n",
      "0  כשחבר הזמין אותי לחול לא באמת חשבתי שזה יקרה פ...  \n",
      "1  לפני שהתגייסתי לצבא עשיתי כל מני מיונים ליחידו...  \n",
      "2  מאז שהתחילו הלימודים חלומו של כל סטודנט זה הפנ...  \n",
      "3  כשהייתי ילד מטוסים היה הדבר שהכי ריתק אותי בתו...  \n",
      "4  הייתי מדריכה בכפר נוער ומתאם הכפר היינו צריכים...  \n",
      "                                               story  \\\n",
      "0  כל קיץ אני והמשפחה נוסעים לארצות הברית לוס אנג...   \n",
      "1  הגעתי לשירות המדינה אחרי שנתיים כפעיל בתנועת \"...   \n",
      "2  אחת האהבות הגדולות שלי אלו הכלבים שלי ושל אישת...   \n",
      "3  רגע הגיוס לצבא היה הרגע הכי משמעותי עבורי, אני...   \n",
      "4  אני הגעתי לברזיל ישר מקולומביה וגם אני עשיתי ע...   \n",
      "\n",
      "                                        cleaned_text  \n",
      "0  כל קיץ אני והמשפחה נוסעים לארצות הברית לוס אנג...  \n",
      "1  הגעתי לשירות המדינה אחרי שנתיים כפעיל בתנועת י...  \n",
      "2  אחת האהבות הגדולות שלי אלו הכלבים שלי ושל אישת...  \n",
      "3  רגע הגיוס לצבא היה הרגע הכי משמעותי עבורי אני ...  \n",
      "4  אני הגעתי לברזיל ישר מקולומביה וגם אני עשיתי ע...  \n"
     ]
    }
   ],
   "source": [
    "# Function to clean and tokenize text\n",
    "\n",
    "df_train['cleaned_text'] = df_train['story'].apply(preprocess_text)\n",
    "df_test['cleaned_text'] = df_test['story'].apply(preprocess_text)\n",
    "\n",
    "# Display the cleaned and tokenized data\n",
    "print(df_train[['story', 'cleaned_text']].head())\n",
    "print(df_test[['story', 'cleaned_text']].head())"
   ]
  },
  {
   "cell_type": "code",
   "execution_count": 13,
   "metadata": {},
   "outputs": [],
   "source": [
    "# Initialize CountVectorizer and TF-IDF Vectorizer\n",
    "count_vectorizer = CountVectorizer()\n",
    "tfidf_vectorizer = TfidfVectorizer()"
   ]
  },
  {
   "cell_type": "code",
   "execution_count": 14,
   "metadata": {},
   "outputs": [],
   "source": [
    "# Fit and transform on training data\n",
    "count_train = count_vectorizer.fit_transform(df_train['cleaned_text'])\n",
    "tfidf_train = tfidf_vectorizer.fit_transform(df_train['cleaned_text'])"
   ]
  },
  {
   "cell_type": "code",
   "execution_count": 15,
   "metadata": {},
   "outputs": [],
   "source": [
    "# Transform on test data\n",
    "count_test = count_vectorizer.transform(df_test['cleaned_text'])\n",
    "tfidf_test = tfidf_vectorizer.transform(df_test['cleaned_text'])"
   ]
  },
  {
   "cell_type": "code",
   "execution_count": 16,
   "metadata": {},
   "outputs": [
    {
     "name": "stdout",
     "output_type": "stream",
     "text": [
      "[1 1 0 1 0 0 1 0 1 0 1 0 0 1 0 0 1 1 1 1 1 1 0 0 1 1 0 0 1 1 0 1 0 1 1 1 1\n",
      " 1 0 1 1 1 1 1 1 1 0 1 0 1 0 1 1 1 1 1 0 1 0 1 0 0 1 1 1 1 1 0 1 1 0 1 1 0\n",
      " 1 1 1 0 1 1 0 1 1 1 1 1 1 1 0 1 1 0 1 0 1 1 0 0 0 1 0 1 1 1 0 1 1 1 0 1 1\n",
      " 1 1 0 1 1 0 1 1 1 1 1 1 1 1 0 1 1 0 1 1 1 1 1 1 1 1 1 1 1 1 0 0 1 1 0 1 1\n",
      " 1 0 1 1 0 1 1 0 1 1 1 1 1 1 1 1 1 0 1 1 1 0 1 1 1 1 1 1 0 0 1 0 0 1 0 0 1\n",
      " 1 1 0 1 1 1 1 1 1 1 0 1 1 1 1 1 1 1 0 1 0 1 1 1 1 1 1 0 1 1 0 1 1 0 0 1 1\n",
      " 1 1 0 1 1 1 1 0 0 0 1 1 1 0 1 1 0 1 0 1 1 1 1 1 1 1 1 0 0 1 1 1 1 1 1 1 1\n",
      " 1 1 1 1 0 0 1 0 1 1 1 1 0 1 0 0 0 0 1 1 1 1 0 1 1 1 1 1 0 1 0 0 1 1 1 0 1\n",
      " 1 0 1 1 1 0 0 1 1 0 0 1 1 1 1 0 1 0 1 1 1 1 1 1 0 1 1 1 1 1 1 1 0 1 0 1 1\n",
      " 1 1 1 1 1 1 1 1 1 1 1 1 0 1 1 0 1 1 0 1 1 1 1 1 1 1 0 0 1 1 1 1 1 1 1 1 1\n",
      " 1 0 1 1 1 1 0 1 0 1 0 1 0 1 1 1 1 1 0 1 1 1 1 1 1 1 1 1 0 0 1 1 1 0 1 1 1\n",
      " 1 1 1 1 1 1 0 1 1 1 0 1 1 1 1 1 1 1 1 0 1 1 1 1 0 1 1 1 1 1 0 0 1 0 1 1 1\n",
      " 1 0 1 1 0 0 1 1 0 1 1 1 1 1 1 1 1 1 1 0 1 1 1 0 1 1 1 1 1 1 1 1 1 1 0 1 1\n",
      " 0 1 1 1 1 1 1 1 1 1 1 1 1 1 1 1 0 0 1 1 1 1 1 0 1 1 1 1 1 0 1 1 1 0 1 0 1\n",
      " 1 1 1 1 1 0 0 1 1 1 0 0 0 1 1 1 0 1 1 0 1 1 0 1 1 1 0 0 1 1 1 1 0 1 1 1 1\n",
      " 1 1 1 0 1 1 1 0 1 1 1 1 1 1 1 1 1 0 0 1 0 1 1 1 1 1 1 0 1 1 1 1 1 1 1 1 1\n",
      " 1 1 1 1 0 1 1 0 1 1 1 1 1 1 1 1 1 1 1 1 1 1 1 0 0 1 1 1 1 1 1 1 1 1 1 1 1\n",
      " 1 1 1 0 1 1 1 1 1 1 1 0 1 1 1 1 1 0 1 1 1 0 1 1 1 1 1 1 1 1 0 1 1 1 1 1 1\n",
      " 0 0 1 1 1 1 0 1 0 1 1 0 0 1 1 1 1 1 1 0 0 1 1 0 1 1 1 1 1 1 1 1 1 1 1 1 1\n",
      " 0 0 1 0 1 1 1 1 0 0 1 0 1 1 1 1 1 1 1 1 0 1 1 1 1 1 1 1 1 1 0 1 1 1 0 1 1\n",
      " 1 0 1 0 1 0 1 1 1 1 1 0 1]\n"
     ]
    }
   ],
   "source": [
    "# Perform label encoding for gender labels\n",
    "label_encoder = LabelEncoder()\n",
    "y_train = label_encoder.fit_transform(df_train['gender'])\n",
    "print (y_train)"
   ]
  },
  {
   "cell_type": "code",
   "execution_count": 17,
   "metadata": {},
   "outputs": [
    {
     "name": "stdout",
     "output_type": "stream",
     "text": [
      "Logistic Regression Cross-Validation Accuracy: 0.7929 (±0.0357)\n",
      "Naive Bayes Cross-Validation Accuracy: 0.7517 (±0.0248)\n",
      "Support Vector Machines Cross-Validation Accuracy: 0.7636 (±0.0072)\n",
      "Random Forest Cross-Validation Accuracy: 0.7690 (±0.0150)\n",
      "Neural Network (MLP) Cross-Validation Accuracy: 0.7889 (±0.0145)\n",
      "LinearSVC Cross-Validation Accuracy: 0.7943 (±0.0471)\n",
      "Perceptron Cross-Validation Accuracy: 0.7796 (±0.0464)\n",
      "SGDClassifier Cross-Validation Accuracy: 0.7768 (±0.0357)\n",
      "TruncatedSVD Cross-Validation Accuracy: nan (±nan)\n",
      "KMeans Cross-Validation Accuracy: 0.1473 (±0.0622)\n",
      "GaussianNB Cross-Validation Accuracy: nan (±nan)\n",
      "KNeighborsClassifier Cross-Validation Accuracy: 0.7317 (±0.0195)\n",
      "DecisionTreeClassifier Cross-Validation Accuracy: 0.6879 (±0.0452)\n"
     ]
    }
   ],
   "source": [
    "from sklearn.linear_model import LogisticRegression\n",
    "from sklearn.svm import SVC\n",
    "from sklearn.ensemble import RandomForestClassifier\n",
    "from sklearn.decomposition import TruncatedSVD\n",
    "\n",
    "# *** CountVectorizer ***\n",
    "\n",
    "# Split the data into features (X) and target (y)\n",
    "X_count = count_train\n",
    "y = y_train\n",
    "\n",
    "# Initialize models\n",
    "models = {\n",
    "    \"Logistic Regression\": LogisticRegression(),\n",
    "    \"Naive Bayes\": MultinomialNB(),\n",
    "    \"Support Vector Machines\": SVC(),\n",
    "    \"Random Forest\": RandomForestClassifier(),\n",
    "    \"Neural Network (MLP)\": MLPClassifier(hidden_layer_sizes=(100,), max_iter=1000),\n",
    "    \"LinearSVC\": LinearSVC(),\n",
    "    \"Perceptron\": Perceptron(),\n",
    "    \"SGDClassifier\": SGDClassifier(),\n",
    "    \"TruncatedSVD\": TruncatedSVD(n_components=100),\n",
    "    \"KMeans\": KMeans(),\n",
    "    \"GaussianNB\": GaussianNB(),\n",
    "    \"KNeighborsClassifier\": KNeighborsClassifier(),\n",
    "    \"DecisionTreeClassifier\": DecisionTreeClassifier()\n",
    "}\n",
    "\n",
    "# Perform cross-validation for each model\n",
    "for model_name, model in models.items():\n",
    "    scores = cross_val_score(model, X_count, y, cv=10, scoring='accuracy')\n",
    "    mean_score = np.mean(scores)\n",
    "    std_score = np.std(scores)\n",
    "    print(f\"{model_name} Cross-Validation Accuracy: {mean_score:.4f} (±{std_score:.4f})\")\n"
   ]
  },
  {
   "cell_type": "code",
   "execution_count": 18,
   "metadata": {},
   "outputs": [
    {
     "data": {
      "text/plain": [
       "GridSearchCV(cv=10, estimator=LogisticRegression(),\n",
       "             param_grid={'C': [0.001, 0.01, 0.1, 1, 10], 'max_iter': [1000],\n",
       "                         'random_state': [42]},\n",
       "             scoring='accuracy')"
      ]
     },
     "execution_count": 18,
     "metadata": {},
     "output_type": "execute_result"
    },
    {
     "name": "stdout",
     "output_type": "stream",
     "text": [
      "Best parameters for Logistic Regression:\n",
      "{'C': 10, 'max_iter': 1000, 'random_state': 42}\n"
     ]
    },
    {
     "data": {
      "text/plain": [
       "GridSearchCV(cv=10, estimator=SVC(),\n",
       "             param_grid={'C': [0.001, 0.01, 0.1, 1, 10],\n",
       "                         'gamma': ['scale', 'auto'],\n",
       "                         'kernel': ['linear', 'rbf'], 'random_state': [42]},\n",
       "             scoring='accuracy')"
      ]
     },
     "execution_count": 18,
     "metadata": {},
     "output_type": "execute_result"
    },
    {
     "name": "stdout",
     "output_type": "stream",
     "text": [
      "Best parameters for Support Vector Machines:\n",
      "{'C': 0.01, 'gamma': 'scale', 'kernel': 'linear', 'random_state': 42}\n"
     ]
    },
    {
     "data": {
      "text/plain": [
       "GridSearchCV(cv=10, estimator=MLPClassifier(max_iter=1000),\n",
       "             param_grid={'activation': ['relu', 'logistic'],\n",
       "                         'hidden_layer_sizes': [(50,), (100,), (150,)],\n",
       "                         'max_iter': [1000], 'random_state': [42]},\n",
       "             scoring='accuracy')"
      ]
     },
     "execution_count": 18,
     "metadata": {},
     "output_type": "execute_result"
    },
    {
     "name": "stdout",
     "output_type": "stream",
     "text": [
      "Best parameters for Neural Network (MLP):\n",
      "{'activation': 'relu', 'hidden_layer_sizes': (50,), 'max_iter': 1000, 'random_state': 42}\n"
     ]
    },
    {
     "data": {
      "text/plain": [
       "GridSearchCV(cv=10, estimator=LinearSVC(),\n",
       "             param_grid={'C': [0.001, 0.01, 0.1, 1, 10], 'max_iter': [1000],\n",
       "                         'random_state': [42]},\n",
       "             scoring='accuracy')"
      ]
     },
     "execution_count": 18,
     "metadata": {},
     "output_type": "execute_result"
    },
    {
     "name": "stdout",
     "output_type": "stream",
     "text": [
      "Best parameters for LinearSVC:\n",
      "{'C': 10, 'max_iter': 1000, 'random_state': 42}\n"
     ]
    },
    {
     "data": {
      "text/plain": [
       "GridSearchCV(cv=10, estimator=SGDClassifier(),\n",
       "             param_grid={'alpha': [0.0001, 0.001, 0.01],\n",
       "                         'loss': ['hinge', 'log'], 'max_iter': [1000],\n",
       "                         'random_state': [42]},\n",
       "             scoring='accuracy')"
      ]
     },
     "execution_count": 18,
     "metadata": {},
     "output_type": "execute_result"
    },
    {
     "name": "stdout",
     "output_type": "stream",
     "text": [
      "Best parameters for SGDClassifier:\n",
      "{'alpha': 0.01, 'loss': 'hinge', 'max_iter': 1000, 'random_state': 42}\n"
     ]
    },
    {
     "data": {
      "text/plain": [
       "GridSearchCV(cv=10, estimator=Perceptron(),\n",
       "             param_grid={'alpha': [0.0001, 0.001, 0.01], 'max_iter': [1000],\n",
       "                         'random_state': [42]},\n",
       "             scoring='accuracy')"
      ]
     },
     "execution_count": 18,
     "metadata": {},
     "output_type": "execute_result"
    },
    {
     "name": "stdout",
     "output_type": "stream",
     "text": [
      "Best parameters for Perceptron:\n",
      "{'alpha': 0.0001, 'max_iter': 1000, 'random_state': 42}\n"
     ]
    },
    {
     "data": {
      "text/plain": [
       "GridSearchCV(cv=10, estimator=KNeighborsClassifier(),\n",
       "             param_grid={'n_neighbors': [3, 5, 7],\n",
       "                         'weights': ['uniform', 'distance']},\n",
       "             scoring='accuracy')"
      ]
     },
     "execution_count": 18,
     "metadata": {},
     "output_type": "execute_result"
    },
    {
     "name": "stdout",
     "output_type": "stream",
     "text": [
      "Best parameters for KNeighborsClassifier:\n",
      "{'n_neighbors': 7, 'weights': 'distance'}\n"
     ]
    }
   ],
   "source": [
    "from sklearn.model_selection import GridSearchCV\n",
    "\n",
    "# Select models for hyperparameter tuning\n",
    "selected_models = {\n",
    "    \"Logistic Regression\": LogisticRegression(),\n",
    "    \"Support Vector Machines\": SVC(),\n",
    "    \"Neural Network (MLP)\": MLPClassifier(hidden_layer_sizes=(100,), max_iter=1000),\n",
    "    \"LinearSVC\": LinearSVC(),\n",
    "    \"SGDClassifier\": SGDClassifier(),\n",
    "    \"Perceptron\": Perceptron(),\n",
    "    \"KNeighborsClassifier\": KNeighborsClassifier(),\n",
    "}\n",
    "\n",
    "# Define parameter grids for hyperparameter tuning\n",
    "param_grids = {\n",
    "    \"Logistic Regression\": {\n",
    "        \"C\": [0.001, 0.01, 0.1, 1, 10],\n",
    "        \"max_iter\": [1000],\n",
    "        \"random_state\": [42]\n",
    "    },\n",
    "    \"Support Vector Machines\": {\n",
    "        \"C\": [0.001, 0.01, 0.1, 1, 10],\n",
    "        \"kernel\": [\"linear\", \"rbf\"],\n",
    "        \"gamma\": [\"scale\", \"auto\"],\n",
    "        \"random_state\": [42]\n",
    "    },\n",
    "    \"Neural Network (MLP)\": {\n",
    "        \"hidden_layer_sizes\": [(50,), (100,), (150,)],\n",
    "        \"activation\": [\"relu\", \"logistic\"],\n",
    "        \"max_iter\": [1000],\n",
    "        \"random_state\": [42]\n",
    "    },\n",
    "    \"LinearSVC\": {\n",
    "        \"C\": [0.001, 0.01, 0.1, 1, 10],\n",
    "        \"max_iter\": [1000],\n",
    "        \"random_state\": [42]\n",
    "    },\n",
    "    \"SGDClassifier\": {\n",
    "        \"alpha\": [0.0001, 0.001, 0.01],\n",
    "        \"loss\": [\"hinge\", \"log\"],\n",
    "        \"max_iter\": [1000],\n",
    "        \"random_state\": [42]\n",
    "    },\n",
    "    \"KNeighborsClassifier\": {\n",
    "        \"n_neighbors\": [3, 5, 7],\n",
    "        \"weights\": [\"uniform\", \"distance\"]\n",
    "    },\n",
    "    \"Perceptron\": {\n",
    "        \"alpha\": [0.0001, 0.001, 0.01],\n",
    "        \"max_iter\": [1000],\n",
    "        \"random_state\": [42]\n",
    "    },\n",
    "}\n",
    "\n",
    "# Perform hyperparameter tuning using GridSearchCV\n",
    "best_models = {}\n",
    "\n",
    "for model_name, model in selected_models.items():\n",
    "    param_grid = param_grids[model_name]\n",
    "    grid_search = GridSearchCV(model, param_grid, cv=10, scoring='accuracy')\n",
    "    grid_search.fit(X_count, y)\n",
    "    best_models[model_name] = grid_search.best_estimator_\n",
    "\n",
    "    print(f\"Best parameters for {model_name}:\")\n",
    "    print(grid_search.best_params_)\n",
    "    \n",
    "# Now you have the best models after hyperparameter tuning\n"
   ]
  },
  {
   "cell_type": "code",
   "execution_count": 19,
   "metadata": {},
   "outputs": [
    {
     "name": "stdout",
     "output_type": "stream",
     "text": [
      "Cross-Validation mean F1-Score for Logistic Regression: 0.6504\n",
      "Cross-Validation mean F1-Score for Support Vector Machines: 0.6787\n",
      "Cross-Validation mean F1-Score for Neural Network (MLP): 0.5721\n",
      "Cross-Validation mean F1-Score for LinearSVC: 0.6853\n",
      "Cross-Validation mean F1-Score for SGDClassifier: 0.6572\n",
      "Cross-Validation mean F1-Score for KNeighborsClassifier: 0.5156\n",
      "Cross-Validation mean F1-Score for Perceptron: 0.6690\n"
     ]
    }
   ],
   "source": [
    "from sklearn.metrics import make_scorer, f1_score\n",
    "from sklearn.model_selection import cross_val_score\n",
    "\n",
    "# Initialize the best models with their best parameters\n",
    "best_models = {\n",
    "    \"Logistic Regression\": LogisticRegression(C=10, max_iter=1000, random_state=42),\n",
    "    \"Support Vector Machines\": SVC(C=0.01, gamma='scale', kernel='linear', random_state=42),\n",
    "    \"Neural Network (MLP)\": MLPClassifier(hidden_layer_sizes=(100,), max_iter=1000, random_state=42),\n",
    "    \"LinearSVC\": LinearSVC(C=10, max_iter=1000, random_state=42),\n",
    "    \"SGDClassifier\": SGDClassifier(alpha=0.01, loss='hinge', max_iter=1000, random_state=42),\n",
    "    \"KNeighborsClassifier\": KNeighborsClassifier(n_neighbors=7, weights='distance'),\n",
    "    \"Perceptron\": Perceptron(alpha=0.01, max_iter=1000, random_state=42),\n",
    "}\n",
    "\n",
    "# Define the scoring metric for cross-validation (F1-score)\n",
    "scoring = make_scorer(f1_score, average='macro')\n",
    "\n",
    "# Perform cross-validation and calculate mean F1-score for each model\n",
    "for model_name, model in best_models.items():\n",
    "    cv_scores = cross_val_score(model, X_count, y, cv=10, scoring=scoring)\n",
    "    mean_f1 = np.mean(cv_scores)\n",
    "    print(f\"Cross-Validation mean F1-Score for {model_name}: {mean_f1:.4f}\")\n"
   ]
  },
  {
   "cell_type": "code",
   "execution_count": 20,
   "metadata": {},
   "outputs": [
    {
     "name": "stdout",
     "output_type": "stream",
     "text": [
      "Logistic Regression Cross-Validation Accuracy: 0.7636 (±0.0050)\n",
      "Naive Bayes Cross-Validation Accuracy: 0.7636 (±0.0050)\n",
      "Support Vector Machines Cross-Validation Accuracy: 0.7663 (±0.0126)\n",
      "Random Forest Cross-Validation Accuracy: 0.7716 (±0.0155)\n",
      "Neural Network (MLP) Cross-Validation Accuracy: 0.7836 (±0.0150)\n",
      "LinearSVC Cross-Validation Accuracy: 0.7823 (±0.0205)\n",
      "Perceptron Cross-Validation Accuracy: 0.8035 (±0.0165)\n",
      "SGDClassifier Cross-Validation Accuracy: 0.8061 (±0.0238)\n",
      "TruncatedSVD Cross-Validation Accuracy: nan (±nan)\n",
      "KMeans Cross-Validation Accuracy: 0.1795 (±0.1151)\n",
      "GaussianNB Cross-Validation Accuracy: nan (±nan)\n",
      "KNeighborsClassifier Cross-Validation Accuracy: 0.7545 (±0.0430)\n",
      "DecisionTreeClassifier Cross-Validation Accuracy: 0.7093 (±0.0408)\n"
     ]
    }
   ],
   "source": [
    "# *** TF-IDF ***\n",
    "\n",
    "# Split the data into features (X) and target (y)\n",
    "X_idf = tfidf_train\n",
    "y = y_train\n",
    "\n",
    "# Initialize models\n",
    "models = {\n",
    "    \"Logistic Regression\": LogisticRegression(),\n",
    "    \"Naive Bayes\": MultinomialNB(),\n",
    "    \"Support Vector Machines\": SVC(),\n",
    "    \"Random Forest\": RandomForestClassifier(),\n",
    "    \"Neural Network (MLP)\": MLPClassifier(hidden_layer_sizes=(100,), max_iter=1000),\n",
    "    \"LinearSVC\": LinearSVC(),\n",
    "    \"Perceptron\": Perceptron(),\n",
    "    \"SGDClassifier\": SGDClassifier(),\n",
    "    \"TruncatedSVD\": TruncatedSVD(n_components=100),\n",
    "    \"KMeans\": KMeans(),\n",
    "    \"GaussianNB\": GaussianNB(),\n",
    "    \"KNeighborsClassifier\": KNeighborsClassifier(),\n",
    "    \"DecisionTreeClassifier\": DecisionTreeClassifier()\n",
    "}\n",
    "\n",
    "# Perform cross-validation for each model\n",
    "for model_name, model in models.items():\n",
    "    scores = cross_val_score(model, X_idf, y, cv=10, scoring='accuracy')\n",
    "    mean_score = np.mean(scores)\n",
    "    std_score = np.std(scores)\n",
    "    print(f\"{model_name} Cross-Validation Accuracy: {mean_score:.4f} (±{std_score:.4f})\")\n"
   ]
  },
  {
   "cell_type": "code",
   "execution_count": 21,
   "metadata": {},
   "outputs": [
    {
     "data": {
      "text/plain": [
       "GridSearchCV(cv=10, estimator=LogisticRegression(),\n",
       "             param_grid={'C': [0.001, 0.01, 0.1, 1, 10], 'max_iter': [1000],\n",
       "                         'random_state': [42]},\n",
       "             scoring='accuracy')"
      ]
     },
     "execution_count": 21,
     "metadata": {},
     "output_type": "execute_result"
    },
    {
     "name": "stdout",
     "output_type": "stream",
     "text": [
      "Best parameters for Logistic Regression:\n",
      "{'C': 10, 'max_iter': 1000, 'random_state': 42}\n"
     ]
    },
    {
     "data": {
      "text/plain": [
       "GridSearchCV(cv=10, estimator=SVC(),\n",
       "             param_grid={'C': [0.001, 0.01, 0.1, 1, 10],\n",
       "                         'gamma': ['scale', 'auto'],\n",
       "                         'kernel': ['linear', 'rbf'], 'random_state': [42]},\n",
       "             scoring='accuracy')"
      ]
     },
     "execution_count": 21,
     "metadata": {},
     "output_type": "execute_result"
    },
    {
     "name": "stdout",
     "output_type": "stream",
     "text": [
      "Best parameters for Support Vector Machines:\n",
      "{'C': 10, 'gamma': 'scale', 'kernel': 'linear', 'random_state': 42}\n"
     ]
    },
    {
     "data": {
      "text/plain": [
       "GridSearchCV(cv=10, estimator=MLPClassifier(max_iter=1000),\n",
       "             param_grid={'activation': ['relu', 'logistic'],\n",
       "                         'hidden_layer_sizes': [(50,), (100,), (150,)],\n",
       "                         'max_iter': [1000], 'random_state': [42]},\n",
       "             scoring='accuracy')"
      ]
     },
     "execution_count": 21,
     "metadata": {},
     "output_type": "execute_result"
    },
    {
     "name": "stdout",
     "output_type": "stream",
     "text": [
      "Best parameters for Neural Network (MLP):\n",
      "{'activation': 'relu', 'hidden_layer_sizes': (50,), 'max_iter': 1000, 'random_state': 42}\n"
     ]
    },
    {
     "data": {
      "text/plain": [
       "GridSearchCV(cv=10, estimator=LinearSVC(),\n",
       "             param_grid={'C': [0.001, 0.01, 0.1, 1, 10], 'max_iter': [1000],\n",
       "                         'random_state': [42]},\n",
       "             scoring='accuracy')"
      ]
     },
     "execution_count": 21,
     "metadata": {},
     "output_type": "execute_result"
    },
    {
     "name": "stdout",
     "output_type": "stream",
     "text": [
      "Best parameters for LinearSVC:\n",
      "{'C': 10, 'max_iter': 1000, 'random_state': 42}\n"
     ]
    },
    {
     "data": {
      "text/plain": [
       "GridSearchCV(cv=10, estimator=SGDClassifier(),\n",
       "             param_grid={'alpha': [0.0001, 0.001, 0.01],\n",
       "                         'loss': ['hinge', 'log'], 'max_iter': [1000],\n",
       "                         'random_state': [42]},\n",
       "             scoring='accuracy')"
      ]
     },
     "execution_count": 21,
     "metadata": {},
     "output_type": "execute_result"
    },
    {
     "name": "stdout",
     "output_type": "stream",
     "text": [
      "Best parameters for SGDClassifier:\n",
      "{'alpha': 0.0001, 'loss': 'hinge', 'max_iter': 1000, 'random_state': 42}\n"
     ]
    },
    {
     "data": {
      "text/plain": [
       "GridSearchCV(cv=10, estimator=Perceptron(),\n",
       "             param_grid={'alpha': [0.0001, 0.001, 0.01], 'max_iter': [1000],\n",
       "                         'random_state': [42]},\n",
       "             scoring='accuracy')"
      ]
     },
     "execution_count": 21,
     "metadata": {},
     "output_type": "execute_result"
    },
    {
     "name": "stdout",
     "output_type": "stream",
     "text": [
      "Best parameters for Perceptron:\n",
      "{'alpha': 0.0001, 'max_iter': 1000, 'random_state': 42}\n"
     ]
    },
    {
     "data": {
      "text/plain": [
       "GridSearchCV(cv=10, estimator=KNeighborsClassifier(),\n",
       "             param_grid={'n_neighbors': [3, 5, 7],\n",
       "                         'weights': ['uniform', 'distance']},\n",
       "             scoring='accuracy')"
      ]
     },
     "execution_count": 21,
     "metadata": {},
     "output_type": "execute_result"
    },
    {
     "name": "stdout",
     "output_type": "stream",
     "text": [
      "Best parameters for KNeighborsClassifier:\n",
      "{'n_neighbors': 5, 'weights': 'distance'}\n"
     ]
    }
   ],
   "source": [
    "from sklearn.model_selection import GridSearchCV\n",
    "\n",
    "# Select models for hyperparameter tuning\n",
    "selected_models = {\n",
    "    \"Logistic Regression\": LogisticRegression(),\n",
    "    \"Support Vector Machines\": SVC(),\n",
    "    \"Neural Network (MLP)\": MLPClassifier(hidden_layer_sizes=(100,), max_iter=1000),\n",
    "     \"LinearSVC\": LinearSVC(),\n",
    "    \"SGDClassifier\": SGDClassifier(),\n",
    "     \"Perceptron\": Perceptron(),\n",
    "    \"KNeighborsClassifier\": KNeighborsClassifier(),\n",
    "}\n",
    "\n",
    "# Define parameter grids for hyperparameter tuning\n",
    "param_grids = {\n",
    "    \"Logistic Regression\": {\n",
    "        \"C\": [0.001, 0.01, 0.1, 1, 10],\n",
    "        \"max_iter\": [1000],\n",
    "        \"random_state\": [42]\n",
    "    },\n",
    "    \"Support Vector Machines\": {\n",
    "        \"C\": [0.001, 0.01, 0.1, 1, 10],\n",
    "        \"kernel\": [\"linear\", \"rbf\"],\n",
    "        \"gamma\": [\"scale\", \"auto\"],\n",
    "        \"random_state\": [42]\n",
    "    },\n",
    "    \"Neural Network (MLP)\": {\n",
    "        \"hidden_layer_sizes\": [(50,), (100,), (150,)],\n",
    "        \"activation\": [\"relu\", \"logistic\"],\n",
    "        \"max_iter\": [1000],\n",
    "        \"random_state\": [42]\n",
    "    },\n",
    "    \"LinearSVC\": {\n",
    "        \"C\": [0.001, 0.01, 0.1, 1, 10],\n",
    "        \"max_iter\": [1000],\n",
    "        \"random_state\": [42]\n",
    "    },\n",
    "    \"SGDClassifier\": {\n",
    "        \"alpha\": [0.0001, 0.001, 0.01],\n",
    "        \"loss\": [\"hinge\", \"log\"],\n",
    "        \"max_iter\": [1000],\n",
    "        \"random_state\": [42]\n",
    "   },\n",
    "    \"KNeighborsClassifier\": {\n",
    "        \"n_neighbors\": [3, 5, 7],\n",
    "        \"weights\": [\"uniform\", \"distance\"]\n",
    "    },\n",
    "    \"Perceptron\": {\n",
    "        \"alpha\": [0.0001, 0.001, 0.01],\n",
    "        \"max_iter\": [1000],\n",
    "        \"random_state\": [42]\n",
    "    },\n",
    "}\n",
    "\n",
    "# Perform hyperparameter tuning using GridSearchCV\n",
    "best_models = {}\n",
    "\n",
    "for model_name, model in selected_models.items():\n",
    "    param_grid = param_grids[model_name]\n",
    "    grid_search = GridSearchCV(model, param_grid, cv=10, scoring='accuracy')\n",
    "    grid_search.fit(X_idf, y)\n",
    "    best_models[model_name] = grid_search.best_estimator_\n",
    "\n",
    "    print(f\"Best parameters for {model_name}:\")\n",
    "    print(grid_search.best_params_)\n",
    "    \n",
    "# Now you have the best models after hyperparameter tuning"
   ]
  },
  {
   "cell_type": "code",
   "execution_count": 22,
   "metadata": {},
   "outputs": [
    {
     "name": "stdout",
     "output_type": "stream",
     "text": [
      "Cross-Validation mean F1-Score for Logistic Regression: 0.4916\n",
      "Cross-Validation mean F1-Score for Support Vector Machines: 0.4330\n",
      "Cross-Validation mean F1-Score for Neural Network (MLP): 0.5325\n",
      "Cross-Validation mean F1-Score for LinearSVC: 0.6137\n",
      "Cross-Validation mean F1-Score for SGDClassifier: 0.4330\n",
      "Cross-Validation mean F1-Score for KNeighborsClassifier: 0.5912\n",
      "Cross-Validation mean F1-Score for Perceptron: 0.6767\n"
     ]
    }
   ],
   "source": [
    "from sklearn.metrics import make_scorer, f1_score\n",
    "from sklearn.model_selection import cross_val_score\n",
    "\n",
    "# Initialize the best models with their best parameters\n",
    "best_models = {\n",
    "    \"Logistic Regression\": LogisticRegression(C=10, max_iter=1000, random_state=42),\n",
    "    \"Support Vector Machines\": SVC(C=0.01, gamma='scale', kernel='linear', random_state=42),\n",
    "    \"Neural Network (MLP)\": MLPClassifier(hidden_layer_sizes=(100,), max_iter=1000, random_state=42),\n",
    "    \"LinearSVC\": LinearSVC(C=10, max_iter=1000, random_state=42),\n",
    "    \"SGDClassifier\": SGDClassifier(alpha=0.01, loss='hinge', max_iter=1000, random_state=42),\n",
    "    \"KNeighborsClassifier\": KNeighborsClassifier(n_neighbors=7, weights='distance'),\n",
    "     \"Perceptron\": Perceptron(alpha=0.01, max_iter=1000, random_state=42),\n",
    "}\n",
    "\n",
    "# Define the scoring metric for cross-validation (F1-score)\n",
    "scoring = make_scorer(f1_score, average='macro')\n",
    "\n",
    "# Perform cross-validation and calculate mean F1-score for each model\n",
    "for model_name, model in best_models.items():\n",
    "    cv_scores = cross_val_score(model, X_idf, y, cv=10, scoring=scoring)\n",
    "    mean_f1 = np.mean(cv_scores)\n",
    "    print(f\"Cross-Validation mean F1-Score for {model_name}: {mean_f1:.4f}\")\n"
   ]
  },
  {
   "cell_type": "code",
   "execution_count": 23,
   "metadata": {},
   "outputs": [
    {
     "data": {
      "text/plain": [
       "LinearSVC(C=10, random_state=42)"
      ]
     },
     "execution_count": 23,
     "metadata": {},
     "output_type": "execute_result"
    },
    {
     "name": "stdout",
     "output_type": "stream",
     "text": [
      "                                               story  predicted_gender\n",
      "0  כל קיץ אני והמשפחה נוסעים לארצות הברית לוס אנג...                 1\n",
      "1  הגעתי לשירות המדינה אחרי שנתיים כפעיל בתנועת \"...                 1\n",
      "2  אחת האהבות הגדולות שלי אלו הכלבים שלי ושל אישת...                 1\n",
      "3  רגע הגיוס לצבא היה הרגע הכי משמעותי עבורי, אני...                 1\n",
      "4  אני הגעתי לברזיל ישר מקולומביה וגם אני עשיתי ע...                 0\n"
     ]
    }
   ],
   "source": [
    "# Choosing the best model and vectorizer\n",
    "\n",
    "best_logreg = LinearSVC(C=10, max_iter=1000, random_state=42)\n",
    "\n",
    "best_logreg.fit(count_train, y)\n",
    "\n",
    "df_predicted = df_test[['test_example_id', 'story']]\n",
    "\n",
    "# Predict on the test data\n",
    "test_predictions = best_logreg.predict(count_test)\n",
    "\n",
    "# Add the predicted gender to the DataFrame\n",
    "df_predicted['predicted_gender'] = test_predictions\n",
    "\n",
    "# Print a sample of the results\n",
    "print(df_predicted[['story', 'predicted_gender']].head())"
   ]
  },
  {
   "cell_type": "code",
   "execution_count": 24,
   "metadata": {},
   "outputs": [
    {
     "name": "stdout",
     "output_type": "stream",
     "text": [
      "First 5 rows:\n",
      "   test_example_id                                              story  \\\n",
      "0                0  כל קיץ אני והמשפחה נוסעים לארצות הברית לוס אנג...   \n",
      "1                1  הגעתי לשירות המדינה אחרי שנתיים כפעיל בתנועת \"...   \n",
      "2                2  אחת האהבות הגדולות שלי אלו הכלבים שלי ושל אישת...   \n",
      "3                3  רגע הגיוס לצבא היה הרגע הכי משמעותי עבורי, אני...   \n",
      "4                4  אני הגעתי לברזיל ישר מקולומביה וגם אני עשיתי ע...   \n",
      "\n",
      "  predicted_gender  \n",
      "0                f  \n",
      "1                f  \n",
      "2                f  \n",
      "3                f  \n",
      "4                m  \n",
      "\n",
      "Last 5 rows:\n",
      "     test_example_id                                              story  \\\n",
      "318              318  בשנה האחרונה הרגשתי די תקוע בעבודה, השגרה הפכה...   \n",
      "319              319  אני ואילן חברים טובים מזה 20 שנה תמיד חלמנו לפ...   \n",
      "320              320  מידי יום שישי אני נוהג לנסוע בתחבורה ציבורית ס...   \n",
      "321              321  לפני מספר חודשים, בשיא התחלואה של הגל השני, עמ...   \n",
      "322              322  היום בו דיווחתי על גניבה של האוטו שלי. בוקר אח...   \n",
      "\n",
      "    predicted_gender  \n",
      "318                f  \n",
      "319                f  \n",
      "320                f  \n",
      "321                f  \n",
      "322                f  \n"
     ]
    }
   ],
   "source": [
    "# Replace numeric values with corresponding labels\n",
    "df_predicted['predicted_gender'] = df_predicted['predicted_gender'].replace({0: 'm', 1: 'f'})\n",
    "\n",
    "# Print a sample of the updated DataFrame\n",
    "print(\"First 5 rows:\")\n",
    "print(df_predicted.head())\n",
    "\n",
    "# Display the last 5 rows\n",
    "print(\"\\nLast 5 rows:\")\n",
    "print(df_predicted.tail())"
   ]
  },
  {
   "cell_type": "markdown",
   "metadata": {},
   "source": [
    "### Save output to csv (optional)\n",
    "After you're done save your output to the 'classification_results.csv' csv file.<br/>\n",
    "We assume that the dataframe with your results contain the following columns:\n",
    "* column 1 (left column): 'test_example_id'  - the same id associated to each of the test stories to be predicted.\n",
    "* column 2 (right column): 'predicted_category' - the predicted gender value for each of the associated story. \n",
    "\n",
    "Assuming your predicted values are in the `df_predicted` dataframe, you should save you're results as following:"
   ]
  },
  {
   "cell_type": "code",
   "execution_count": 25,
   "metadata": {},
   "outputs": [],
   "source": [
    "df_predicted.to_csv('classification_results.csv',index=False)"
   ]
  },
  {
   "cell_type": "code",
   "execution_count": null,
   "metadata": {},
   "outputs": [],
   "source": []
  }
 ],
 "metadata": {
  "celltoolbar": "Create Assignment",
  "kernelspec": {
   "display_name": "Python 3 (ipykernel)",
   "language": "python",
   "name": "python3"
  },
  "language_info": {
   "codemirror_mode": {
    "name": "ipython",
    "version": 3
   },
   "file_extension": ".py",
   "mimetype": "text/x-python",
   "name": "python",
   "nbconvert_exporter": "python",
   "pygments_lexer": "ipython3",
   "version": "3.9.13"
  }
 },
 "nbformat": 4,
 "nbformat_minor": 4
}
